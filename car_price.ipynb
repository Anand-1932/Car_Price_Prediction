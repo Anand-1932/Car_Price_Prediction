{
  "nbformat": 4,
  "nbformat_minor": 0,
  "metadata": {
    "colab": {
      "provenance": [],
      "authorship_tag": "ABX9TyMv2gLU0oT6k+CR6V3cZ3uz",
      "include_colab_link": true
    },
    "kernelspec": {
      "name": "python3",
      "display_name": "Python 3"
    },
    "language_info": {
      "name": "python"
    }
  },
  "cells": [
    {
      "cell_type": "markdown",
      "metadata": {
        "id": "view-in-github",
        "colab_type": "text"
      },
      "source": [
        "<a href=\"https://colab.research.google.com/github/Anand-1932/Car_Price_Prediction/blob/main/car_price.ipynb\" target=\"_parent\"><img src=\"https://colab.research.google.com/assets/colab-badge.svg\" alt=\"Open In Colab\"/></a>"
      ]
    },
    {
      "cell_type": "code",
      "source": [
        "!pip install ydata_profiling"
      ],
      "metadata": {
        "id": "aO3HqTBFAs1a"
      },
      "execution_count": null,
      "outputs": []
    },
    {
      "cell_type": "code",
      "source": [
        "# importing basic library\n",
        "import pandas as pd\n",
        "import numpy as np\n",
        "import seaborn as sns\n",
        "import matplotlib.pyplot as plt\n",
        "%matplotlib inline\n",
        "import warnings\n",
        "warnings.filterwarnings(\"ignore\")\n",
        "from ydata_profiling import ProfileReport"
      ],
      "metadata": {
        "id": "EKgwsotX9zJ3"
      },
      "execution_count": null,
      "outputs": []
    },
    {
      "cell_type": "code",
      "source": [
        "# importing dataset\n",
        "data=pd.read_csv(\"/content/CarPriceprediction.csv\")"
      ],
      "metadata": {
        "id": "LUn92aWe-3G2"
      },
      "execution_count": null,
      "outputs": []
    },
    {
      "cell_type": "code",
      "source": [
        "data"
      ],
      "metadata": {
        "id": "wVCi6eCz_PJV"
      },
      "execution_count": null,
      "outputs": []
    },
    {
      "cell_type": "code",
      "source": [
        "data.shape"
      ],
      "metadata": {
        "id": "DQkW9ncA_QEe"
      },
      "execution_count": null,
      "outputs": []
    },
    {
      "cell_type": "markdown",
      "source": [
        "# Basic Checks"
      ],
      "metadata": {
        "id": "j-523-EQ_m0V"
      }
    },
    {
      "cell_type": "code",
      "source": [
        "data.head()"
      ],
      "metadata": {
        "id": "gCOFzL6H_jug"
      },
      "execution_count": null,
      "outputs": []
    },
    {
      "cell_type": "code",
      "source": [
        "data.tail()"
      ],
      "metadata": {
        "id": "kDPOYeEF_sU2"
      },
      "execution_count": null,
      "outputs": []
    },
    {
      "cell_type": "code",
      "source": [
        "data.isnull().sum()"
      ],
      "metadata": {
        "id": "YEHz6EEr_uLd"
      },
      "execution_count": null,
      "outputs": []
    },
    {
      "cell_type": "code",
      "source": [
        "data.info()"
      ],
      "metadata": {
        "id": "-H1iYR6q_x8R"
      },
      "execution_count": null,
      "outputs": []
    },
    {
      "cell_type": "code",
      "source": [
        "data.describe()"
      ],
      "metadata": {
        "id": "TKUolbu4_2BH"
      },
      "execution_count": null,
      "outputs": []
    },
    {
      "cell_type": "code",
      "source": [
        "data.describe(include='O')"
      ],
      "metadata": {
        "id": "LLAKdTX__8Ir"
      },
      "execution_count": null,
      "outputs": []
    },
    {
      "cell_type": "markdown",
      "source": [
        "# Insights from basic checks\n",
        "\n",
        "*   this dataset contain 26 columns and 205 rows.\n",
        "*   dataset contain no null values.\n",
        "*   Average price of the car is 13276.710571\n",
        "*   Most of the car is of toyota carona.\n",
        "*    \n",
        "\n"
      ],
      "metadata": {
        "id": "0KgjfrA8AISP"
      }
    },
    {
      "cell_type": "markdown",
      "source": [
        "# Exploratory Data Analysis(EDA)"
      ],
      "metadata": {
        "id": "mZ36sVk9BEdH"
      }
    },
    {
      "cell_type": "code",
      "source": [
        "data.columns"
      ],
      "metadata": {
        "id": "yH4J9G6hADL6"
      },
      "execution_count": null,
      "outputs": []
    },
    {
      "cell_type": "code",
      "source": [
        "EDA=ProfileReport(data,title=\"EDA Report\")\n",
        "EDA"
      ],
      "metadata": {
        "id": "78QahsnUBiT4"
      },
      "execution_count": null,
      "outputs": []
    },
    {
      "cell_type": "markdown",
      "source": [
        "# Insights from EDA\n",
        "\n",
        "*   Dataset has no missing value.\n",
        "\n",
        "*   As carlength is increasing the price of the car is also increasing.\n",
        "\n",
        "*   As carwidth is increasing the price of the car is also increasing.\n",
        "\n",
        "*   Enginesize is directly proportional to the price of the car, as enginesize increasing price of car is also increasing.\n",
        "*   Car having high boreratio have high price.\n",
        "\n",
        "\n",
        "*   As horespower of car is increasing the price of the car is also increasing, more the horsepower more the price of car.\n",
        "\n",
        "\n",
        "*   citympg is inversely proportional with carpeice, as citympg increasing price of the car is decreasing.\n",
        "\n",
        "\n",
        "\n",
        "*   highwaympg is inversely proportional with carpeice, as highwaympg increasing price of the car is decreasing.\n",
        "\n",
        "*   Citympg and highwaympg is highly coorelated. we will drop one of the column in preprocessing.\n",
        "*   \n",
        "\n"
      ],
      "metadata": {
        "id": "WEdsXUCGDdt2"
      }
    },
    {
      "cell_type": "markdown",
      "source": [
        "# Data Preprocessing"
      ],
      "metadata": {
        "id": "cMPRIQLjG4Cw"
      }
    },
    {
      "cell_type": "code",
      "source": [
        "data.value_counts()"
      ],
      "metadata": {
        "id": "RCTFSgaCBtvH"
      },
      "execution_count": null,
      "outputs": []
    },
    {
      "cell_type": "code",
      "source": [
        "# finding missing value\n",
        "data.isnull().sum()"
      ],
      "metadata": {
        "id": "9uxzfH-NHAM-"
      },
      "execution_count": null,
      "outputs": []
    },
    {
      "cell_type": "code",
      "source": [
        "# Since dataset has no missing value there is no need to handle missing value."
      ],
      "metadata": {
        "id": "DxR9gx58HMZx"
      },
      "execution_count": null,
      "outputs": []
    },
    {
      "cell_type": "code",
      "source": [
        "# plotting boxplot to find outliers.\n",
        "plt.figure(figsize=(10,10))\n",
        "plotnumber=1\n",
        "\n",
        "for i in data.select_dtypes(include='number').columns:\n",
        "  if plotnumber<=16:\n",
        "\n",
        "    ax=plt.subplot(6,3,plotnumber)\n",
        "    sns.boxplot(x=data[i])\n",
        "    plt.xlabel(i,fontsize=10)\n",
        "    plt.ylabel('count',fontsize=10)\n",
        "\n",
        "    plotnumber+=1\n",
        "\n",
        "plt.tight_layout()  #to fit the graph properly"
      ],
      "metadata": {
        "id": "-SOhGBZaHVnI"
      },
      "execution_count": null,
      "outputs": []
    },
    {
      "cell_type": "code",
      "source": [
        "# checking for duplicated value\n",
        "data.duplicated().unique()"
      ],
      "metadata": {
        "id": "zf2Cr69sIo2I"
      },
      "execution_count": null,
      "outputs": []
    },
    {
      "cell_type": "code",
      "source": [
        "# since there is no null value so skipping the handle missing value step.\n",
        "# since there is no duplicated value so skipping handle duplicated value step."
      ],
      "metadata": {
        "id": "shNW7aOeKMlu"
      },
      "execution_count": null,
      "outputs": []
    },
    {
      "cell_type": "code",
      "source": [
        "# Treating outliers"
      ],
      "metadata": {
        "id": "0Chvms3gKwaD"
      },
      "execution_count": null,
      "outputs": []
    },
    {
      "cell_type": "code",
      "source": [
        "def wisker(col):\n",
        "  Q1,Q3=np.percentile(col,(25,75))\n",
        "  IQR=Q3-Q1\n",
        "  lw=Q1-(1.5*IQR)\n",
        "  uw=Q3+(1.5*IQR)\n",
        "  return lw,uw"
      ],
      "metadata": {
        "id": "PJXNNS86K0WF"
      },
      "execution_count": null,
      "outputs": []
    },
    {
      "cell_type": "code",
      "source": [
        "for i in ['wheelbase','carlength','carwidth','enginesize','stroke','compressionratio','horsepower','peakrpm','citympg','highwaympg']:\n",
        "  lw,uw=wisker(data[i])\n",
        "  data[i]=np.where(data[i]<lw,lw,data[i])\n",
        "  data[i]=np.where(data[i]>uw,uw,data[i])"
      ],
      "metadata": {
        "id": "m0tps_eLLLNl"
      },
      "execution_count": null,
      "outputs": []
    },
    {
      "cell_type": "code",
      "source": [
        "# Again plotting boxplot to check weather the outliers are handled or not\n",
        "plt.figure(figsize=(10,10))\n",
        "plotnumber=1\n",
        "\n",
        "for i in data.select_dtypes(include='number').columns:\n",
        "  if plotnumber<=16:\n",
        "\n",
        "    ax=plt.subplot(6,3,plotnumber)\n",
        "    sns.boxplot(x=data[i])\n",
        "    plt.xlabel(i,fontsize=10)\n",
        "    plt.ylabel('count',fontsize=10)\n",
        "\n",
        "    plotnumber+=1\n",
        "\n",
        "plt.tight_layout()  #to fit the graph properly"
      ],
      "metadata": {
        "id": "FhpgrQUPMH9g"
      },
      "execution_count": null,
      "outputs": []
    },
    {
      "cell_type": "code",
      "source": [
        "# outliers are handled using IQR\n",
        "# value lower than lower limit is replaced by lower limit(Q1-1.5*IQR)\n",
        "# value higher than upper limit is replaced by lower limit(Q3+1.5*IQR)"
      ],
      "metadata": {
        "id": "XPmfHQHuMUGh"
      },
      "execution_count": null,
      "outputs": []
    },
    {
      "cell_type": "code",
      "source": [
        "# checking coorelation between the numerical independent feature\n",
        "new_data=data.select_dtypes(include='number').corr()\n",
        "new_data\n"
      ],
      "metadata": {
        "id": "I7eFLegmMzei"
      },
      "execution_count": null,
      "outputs": []
    },
    {
      "cell_type": "code",
      "source": [
        "# checking coorelation of data\n",
        "plt.figure(figsize=(15,15))\n",
        "sns.heatmap(new_data,annot=True)"
      ],
      "metadata": {
        "id": "vWvrP2PENNIY"
      },
      "execution_count": null,
      "outputs": []
    },
    {
      "cell_type": "markdown",
      "source": [
        "# Feature Engineering"
      ],
      "metadata": {
        "id": "DwEFo1NrWQcQ"
      }
    },
    {
      "cell_type": "code",
      "source": [
        "# feature encoding\n",
        "# converting categorical column to numerical column"
      ],
      "metadata": {
        "id": "YY_ZEdUNV0Wg"
      },
      "execution_count": null,
      "outputs": []
    },
    {
      "cell_type": "code",
      "source": [
        "from sklearn.preprocessing import LabelEncoder,OneHotEncoder,OrdinalEncoder"
      ],
      "metadata": {
        "id": "6UPme5g0acNT"
      },
      "execution_count": null,
      "outputs": []
    },
    {
      "cell_type": "code",
      "source": [
        "label=LabelEncoder()\n",
        "OHE=OneHotEncoder()\n",
        "OE=OrdinalEncoder()"
      ],
      "metadata": {
        "id": "XCGt6ALtavxZ"
      },
      "execution_count": null,
      "outputs": []
    },
    {
      "cell_type": "code",
      "source": [
        "data.select_dtypes(include='object').columns"
      ],
      "metadata": {
        "id": "GJyAADZea47Q"
      },
      "execution_count": null,
      "outputs": []
    },
    {
      "cell_type": "code",
      "source": [
        "# All the categorical data has to maintain hierarchy so we will apply ordinal\n",
        "# encoding on all the categorical column."
      ],
      "metadata": {
        "id": "Gvcm5unjbJMb"
      },
      "execution_count": null,
      "outputs": []
    },
    {
      "cell_type": "code",
      "source": [
        "# since the name of the car has effect on the price of the car so we will apply\n",
        "# Ordinal encoding"
      ],
      "metadata": {
        "id": "okGU3fe1ecHO"
      },
      "execution_count": null,
      "outputs": []
    },
    {
      "cell_type": "code",
      "source": [
        "column_to_transform=['CarName','fueltype','aspiration','doornumber','carbody','drivewheel',\n",
        "     'enginelocation','enginetype','cylindernumber','fuelsystem']"
      ],
      "metadata": {
        "id": "o9d9pfn9xeir"
      },
      "execution_count": null,
      "outputs": []
    },
    {
      "cell_type": "code",
      "source": [
        "data[column_to_transform]=OE.fit_transform(data[column_to_transform])"
      ],
      "metadata": {
        "id": "SyXIPPwXxkcy"
      },
      "execution_count": null,
      "outputs": []
    },
    {
      "cell_type": "markdown",
      "source": [
        "# Feature Scaling"
      ],
      "metadata": {
        "id": "Su9ETm-0ye0u"
      }
    },
    {
      "cell_type": "code",
      "source": [
        "from sklearn.preprocessing import StandardScaler\n",
        "scaler=StandardScaler()"
      ],
      "metadata": {
        "id": "-38eocY0xqU-"
      },
      "execution_count": null,
      "outputs": []
    },
    {
      "cell_type": "code",
      "source": [
        "data[['car_ID', 'symboling', 'CarName', 'fueltype', 'aspiration',\n",
        "       'doornumber', 'carbody', 'drivewheel', 'enginelocation', 'wheelbase',\n",
        "       'carlength', 'carwidth', 'carheight', 'curbweight', 'enginetype',\n",
        "       'cylindernumber', 'enginesize', 'fuelsystem', 'boreratio', 'stroke',\n",
        "       'compressionratio', 'horsepower', 'peakrpm', 'citympg', 'highwaympg']]=scaler.fit_transform(data[['car_ID', 'symboling', 'CarName', 'fueltype', 'aspiration',\n",
        "       'doornumber', 'carbody', 'drivewheel', 'enginelocation', 'wheelbase',\n",
        "       'carlength', 'carwidth', 'carheight', 'curbweight', 'enginetype',\n",
        "       'cylindernumber', 'enginesize', 'fuelsystem', 'boreratio', 'stroke',\n",
        "       'compressionratio', 'horsepower', 'peakrpm', 'citympg', 'highwaympg']])"
      ],
      "metadata": {
        "id": "ppJRphPly8ro"
      },
      "execution_count": null,
      "outputs": []
    },
    {
      "cell_type": "code",
      "source": [
        "data"
      ],
      "metadata": {
        "id": "fGBGB4-16hrr"
      },
      "execution_count": null,
      "outputs": []
    },
    {
      "cell_type": "markdown",
      "source": [
        "# Feature Selection"
      ],
      "metadata": {
        "id": "sqaIeP5267dV"
      }
    },
    {
      "cell_type": "code",
      "source": [
        "# drop car_ID because it has unique value\n",
        "data.drop('car_ID',axis=1,inplace=True)"
      ],
      "metadata": {
        "id": "xxbAYGXH66yl"
      },
      "execution_count": null,
      "outputs": []
    },
    {
      "cell_type": "code",
      "source": [
        "# Removing below mention input column since it shows high coorelation between\n",
        "# another input column\n",
        "remove_col=['wheelbase','carwidth','carlength','highwaympg']"
      ],
      "metadata": {
        "id": "LAudE--B6wgE"
      },
      "execution_count": null,
      "outputs": []
    },
    {
      "cell_type": "code",
      "source": [
        "data.drop(remove_col,axis=1,inplace=True)\n"
      ],
      "metadata": {
        "id": "kiG8tAIIFe_9"
      },
      "execution_count": null,
      "outputs": []
    },
    {
      "cell_type": "code",
      "source": [
        "final_data=data"
      ],
      "metadata": {
        "id": "W77eHa53Fq5A"
      },
      "execution_count": null,
      "outputs": []
    },
    {
      "cell_type": "code",
      "source": [
        "final_data"
      ],
      "metadata": {
        "id": "91RWXQTKF50i"
      },
      "execution_count": null,
      "outputs": []
    },
    {
      "cell_type": "markdown",
      "source": [
        "# Model Creation"
      ],
      "metadata": {
        "id": "uIAabmLDGX5C"
      }
    },
    {
      "cell_type": "code",
      "source": [
        "# seprating independent and dependent variable\n",
        "x=data.drop('price',axis=1)\n",
        "y=data['price']"
      ],
      "metadata": {
        "id": "RTZSIIh1GUac"
      },
      "execution_count": null,
      "outputs": []
    },
    {
      "cell_type": "code",
      "source": [
        "# creating testing and training dataset\n",
        "from sklearn.model_selection import train_test_split\n",
        "x_train,x_test,y_train,y_test=train_test_split(x,y,test_size=0.2,random_state=3)"
      ],
      "metadata": {
        "id": "RfrizaPHGja_"
      },
      "execution_count": null,
      "outputs": []
    },
    {
      "cell_type": "code",
      "source": [
        "x_test.shape"
      ],
      "metadata": {
        "id": "K5QEVUSJG7y3"
      },
      "execution_count": null,
      "outputs": []
    },
    {
      "cell_type": "markdown",
      "source": [
        "# Linear Regression"
      ],
      "metadata": {
        "id": "PEbeFsouHELQ"
      }
    },
    {
      "cell_type": "code",
      "source": [
        "# creating linear regression model\n",
        "from sklearn.linear_model import LinearRegression\n",
        "LR=LinearRegression()\n",
        "LR.fit(x_train,y_train)\n",
        "y_pred=LR.predict(x_test)"
      ],
      "metadata": {
        "id": "ta_7qYxYHADY"
      },
      "execution_count": null,
      "outputs": []
    },
    {
      "cell_type": "code",
      "source": [
        "y_pred"
      ],
      "metadata": {
        "id": "zCYKc0GBHkS9"
      },
      "execution_count": null,
      "outputs": []
    },
    {
      "cell_type": "code",
      "source": [
        "# Model Evalution\n",
        "from sklearn.metrics import r2_score,mean_absolute_error,mean_squared_error,root_mean_squared_error"
      ],
      "metadata": {
        "id": "ajht6Qf-HmrB"
      },
      "execution_count": null,
      "outputs": []
    },
    {
      "cell_type": "code",
      "source": [
        "r2=r2_score(y_test,y_pred)\n",
        "r2"
      ],
      "metadata": {
        "id": "tdYf_Nb3H7Ft"
      },
      "execution_count": null,
      "outputs": []
    },
    {
      "cell_type": "code",
      "source": [
        "mse=mean_squared_error(y_test,y_pred)\n",
        "mse"
      ],
      "metadata": {
        "id": "k6Q_OqVQICXT"
      },
      "execution_count": null,
      "outputs": []
    },
    {
      "cell_type": "code",
      "source": [
        "mae=mean_absolute_error(y_test,y_pred)\n",
        "mae"
      ],
      "metadata": {
        "id": "tfvbRtu-IJyN"
      },
      "execution_count": null,
      "outputs": []
    },
    {
      "cell_type": "code",
      "source": [
        "rmse=np.sqrt(mse)\n",
        "rmse"
      ],
      "metadata": {
        "id": "cteGxT4DIOnv"
      },
      "execution_count": null,
      "outputs": []
    },
    {
      "cell_type": "code",
      "source": [],
      "metadata": {
        "id": "Fp-6kjx9ISvc"
      },
      "execution_count": null,
      "outputs": []
    },
    {
      "cell_type": "code",
      "source": [],
      "metadata": {
        "id": "cZAoxATEIaFH"
      },
      "execution_count": null,
      "outputs": []
    },
    {
      "cell_type": "code",
      "source": [],
      "metadata": {
        "id": "zsNUFfqlIZqm"
      },
      "execution_count": null,
      "outputs": []
    },
    {
      "cell_type": "markdown",
      "source": [
        "# Support Vector Machine"
      ],
      "metadata": {
        "id": "gW9WKj5DI2wq"
      }
    },
    {
      "cell_type": "code",
      "source": [
        "from sklearn.svm import SVR\n",
        "svr=SVR()"
      ],
      "metadata": {
        "id": "LZJalUmfIZLb"
      },
      "execution_count": null,
      "outputs": []
    },
    {
      "cell_type": "code",
      "source": [
        "svr.fit(x_train,y_train)\n",
        "y_pred=svr.predict(x_test)"
      ],
      "metadata": {
        "id": "_CCicRLKJTFG"
      },
      "execution_count": null,
      "outputs": []
    },
    {
      "cell_type": "code",
      "source": [
        "y_pred"
      ],
      "metadata": {
        "id": "UazjUZJsKg9_"
      },
      "execution_count": null,
      "outputs": []
    },
    {
      "cell_type": "code",
      "source": [
        "y_test"
      ],
      "metadata": {
        "id": "LDPfvGU6OuuB"
      },
      "execution_count": null,
      "outputs": []
    },
    {
      "cell_type": "code",
      "source": [
        "# Model Evaluation\n",
        "from sklearn.metrics import r2_score,mean_absolute_error,mean_squared_error,root_mean_squared_log_error\n",
        "r2=r2_score(y_test,y_pred)\n",
        "r2"
      ],
      "metadata": {
        "id": "Ty5VIIXuKjJK"
      },
      "execution_count": null,
      "outputs": []
    },
    {
      "cell_type": "code",
      "source": [
        "mse=mean_squared_error(y_test,y_pred)\n",
        "mse"
      ],
      "metadata": {
        "id": "wI32es8mOkuE"
      },
      "execution_count": null,
      "outputs": []
    },
    {
      "cell_type": "code",
      "source": [],
      "metadata": {
        "id": "TWTFQ1KjPZB4"
      },
      "execution_count": null,
      "outputs": []
    },
    {
      "cell_type": "markdown",
      "source": [
        "# support vector machine regression model is not for predicting car price prediction since the r2_score is very low."
      ],
      "metadata": {
        "id": "fa_kCsq3PmGR"
      }
    },
    {
      "cell_type": "code",
      "source": [],
      "metadata": {
        "id": "Xb70qjZcPwRD"
      },
      "execution_count": null,
      "outputs": []
    },
    {
      "cell_type": "code",
      "source": [],
      "metadata": {
        "id": "ND-iXmyUP3ic"
      },
      "execution_count": null,
      "outputs": []
    },
    {
      "cell_type": "code",
      "source": [],
      "metadata": {
        "id": "msHpLox4P3Z7"
      },
      "execution_count": null,
      "outputs": []
    },
    {
      "cell_type": "code",
      "source": [],
      "metadata": {
        "id": "-lK_6TfUP3Rs"
      },
      "execution_count": null,
      "outputs": []
    },
    {
      "cell_type": "markdown",
      "source": [
        "# Model Creation Decision Tree"
      ],
      "metadata": {
        "id": "yMMThrSFP5cb"
      }
    },
    {
      "cell_type": "code",
      "source": [
        "from sklearn.tree import DecisionTreeRegressor\n",
        "\n",
        "dt=DecisionTreeRegressor(criterion='friedman_mse',max_depth=10,min_samples_leaf=1,min_samples_split=3,splitter='random')\n",
        "dt.fit(x_train,y_train)\n",
        "y_hat=dt.predict(x_test)\n",
        "y_hat"
      ],
      "metadata": {
        "id": "xl-KoDlUP3E4"
      },
      "execution_count": null,
      "outputs": []
    },
    {
      "cell_type": "code",
      "source": [
        "# Evaluating the model\n",
        "r2=r2_score(y_test,y_hat)\n",
        "r2"
      ],
      "metadata": {
        "id": "M3pV_15aQpyt"
      },
      "execution_count": null,
      "outputs": []
    },
    {
      "cell_type": "code",
      "source": [
        "mse=mean_squared_error(y_test,y_hat)\n",
        "mse"
      ],
      "metadata": {
        "id": "ddw-RJa4Q-Cs"
      },
      "execution_count": null,
      "outputs": []
    },
    {
      "cell_type": "code",
      "source": [
        "# Applying hypermeter tunning\n",
        "from sklearn.model_selection import GridSearchCV"
      ],
      "metadata": {
        "id": "mnV8IrXmRGwm"
      },
      "execution_count": null,
      "outputs": []
    },
    {
      "cell_type": "code",
      "source": [
        "params={\n",
        "    \"criterion\":(\"mse\",\"mae\",\"friedman_mse\",\"poission\"),\n",
        "    \"splitter\":(\"best\",\"random\"),\n",
        "    \"max_depth\":(list(range(1,20))),\n",
        "    \"min_samples_split\":[2,3,4],\n",
        "    \"min_samples_leaf\":list(range(1,20))\n",
        "}\n",
        "\n",
        "tree_rgr=DecisionTreeRegressor()\n",
        "tree_cv=GridSearchCV(tree_rgr,params,scoring=\"r2\",n_jobs=-1,cv=5)\n",
        "tree_cv.fit(x_train,y_train)\n",
        "\n",
        "best_params=tree_cv.best_params_\n",
        "print(f\"Best parameters:, {best_params})\")"
      ],
      "metadata": {
        "id": "T0weWKKlRYQA"
      },
      "execution_count": null,
      "outputs": []
    },
    {
      "cell_type": "code",
      "source": [
        "tree_cv.best_score_"
      ],
      "metadata": {
        "id": "B5n-_zFYS_4Z"
      },
      "execution_count": null,
      "outputs": []
    },
    {
      "cell_type": "code",
      "source": [
        "dt1=DecisionTreeRegressor(criterion='friedman_mse',max_depth=10,min_samples_leaf=3,min_samples_split=4,splitter='random')"
      ],
      "metadata": {
        "id": "KslIv6EcTlWX"
      },
      "execution_count": null,
      "outputs": []
    },
    {
      "cell_type": "code",
      "source": [
        "dt1.fit(x_train,y_train)\n",
        "y_pred_dt=dt1.predict(x_test)\n",
        "y_pred_dt"
      ],
      "metadata": {
        "id": "VmHeKedsUGSx"
      },
      "execution_count": null,
      "outputs": []
    },
    {
      "cell_type": "code",
      "source": [
        "# Evaluating the model\n",
        "r2=r2_score(y_test,y_pred_dt)\n",
        "r2"
      ],
      "metadata": {
        "id": "OlGNdBJyUUnA"
      },
      "execution_count": null,
      "outputs": []
    },
    {
      "cell_type": "code",
      "source": [],
      "metadata": {
        "id": "yXqk0EpmUejx"
      },
      "execution_count": null,
      "outputs": []
    },
    {
      "cell_type": "code",
      "source": [],
      "metadata": {
        "id": "wAZnJgKuUk-p"
      },
      "execution_count": null,
      "outputs": []
    },
    {
      "cell_type": "code",
      "source": [],
      "metadata": {
        "id": "zTDN0AO_UkmR"
      },
      "execution_count": null,
      "outputs": []
    },
    {
      "cell_type": "markdown",
      "source": [
        "# Random Forest"
      ],
      "metadata": {
        "id": "llBt1BYFUlgt"
      }
    },
    {
      "cell_type": "code",
      "source": [
        "from sklearn.ensemble import RandomForestRegressor\n",
        "\n",
        "rf_rgr=RandomForestRegressor(n_estimators=100)\n",
        "rf_rgr.fit(x_train,y_train)"
      ],
      "metadata": {
        "id": "FOC2c639UkZz"
      },
      "execution_count": null,
      "outputs": []
    },
    {
      "cell_type": "code",
      "source": [
        "y_pred_rf=rf_rgr.predict(x_test)\n",
        "y_pred_rf"
      ],
      "metadata": {
        "id": "At9w-b-aU-CU"
      },
      "execution_count": null,
      "outputs": []
    },
    {
      "cell_type": "code",
      "source": [
        "# Evaluating the model\n",
        "r2=r2_score(y_test,y_pred_rf)\n",
        "r2"
      ],
      "metadata": {
        "id": "5_TFRpqvVLsL"
      },
      "execution_count": null,
      "outputs": []
    },
    {
      "cell_type": "code",
      "source": [
        "# hyperparameter tunning\n",
        "from sklearn.model_selection import RandomizedSearchCV\n",
        "\n",
        "n_estimators=[int(x) for x in np.linspace(start=200,stop=2000,num=10)]\n",
        "max_features=['auto','sqrt','log2']\n",
        "max_depth=[int(x) for x in np.linspace(10,110,num=11)]\n",
        "min_samples_split=[2,5,18]\n",
        "min_samples_leaf=[1,2,4]\n",
        "\n",
        "random_grid={\n",
        "    'n_estimators':n_estimators,\n",
        "    'max_features':max_features,\n",
        "    'max_depth':max_depth,\n",
        "    'min_samples_split':min_samples_split,\n",
        "    'min_samples_leaf':min_samples_leaf\n",
        "}\n",
        "\n",
        "rf_rgr1=RandomForestRegressor(random_state=3)\n",
        "\n",
        "rf_cv=RandomizedSearchCV(estimator=rf_rgr1,scoring='r2',param_distributions=random_grid,n_iter=100,cv=4,\n",
        "                         verbose=2,random_state=3,n_jobs=-1)\n",
        "\n",
        "rf_cv.fit(x_train,y_train)\n",
        "rf_best_params=rf_cv.best_params_\n",
        "print(f\"Best parameters:, {rf_best_params})\")"
      ],
      "metadata": {
        "id": "dfmHRIjkVV75"
      },
      "execution_count": null,
      "outputs": []
    },
    {
      "cell_type": "code",
      "source": [
        "rf_rgr2=RandomForestRegressor(n_estimators=1400,min_samples_split=2,min_samples_leaf=1,max_features='sqrt',max_depth=80)"
      ],
      "metadata": {
        "id": "xxTQlrqBYzh3"
      },
      "execution_count": null,
      "outputs": []
    },
    {
      "cell_type": "code",
      "source": [
        "rf_rgr2.fit(x_train,y_train)"
      ],
      "metadata": {
        "id": "HzYWPmWrbMXD"
      },
      "execution_count": null,
      "outputs": []
    },
    {
      "cell_type": "code",
      "source": [
        "y_pred_rf1=rf_rgr2.predict(x_test)\n",
        "y_pred_rf1"
      ],
      "metadata": {
        "id": "0fOTGvLubStk"
      },
      "execution_count": null,
      "outputs": []
    },
    {
      "cell_type": "code",
      "source": [
        "# Evaluating the model\n",
        "r2=r2_score(y_test,y_pred_rf1)\n",
        "r2"
      ],
      "metadata": {
        "id": "GeGTEqxRbf01"
      },
      "execution_count": null,
      "outputs": []
    },
    {
      "cell_type": "code",
      "source": [],
      "metadata": {
        "id": "g0m6Vj4WbqyH"
      },
      "execution_count": null,
      "outputs": []
    },
    {
      "cell_type": "markdown",
      "source": [
        "# After Applying linear regression, support vector machine (regression), Decision Tree (regression) , Random Forest(regression).  Random Forest Regressor have best r2 score"
      ],
      "metadata": {
        "id": "XrTRh4lIbsh3"
      }
    },
    {
      "cell_type": "code",
      "source": [
        "import pickle"
      ],
      "metadata": {
        "id": "sdLxhHfXb-0q"
      },
      "execution_count": null,
      "outputs": []
    },
    {
      "cell_type": "code",
      "source": [
        "pickle.dump(rf_rgr2, open('model.pkl','wb'))"
      ],
      "metadata": {
        "id": "p7oiQYSOMeSp"
      },
      "execution_count": null,
      "outputs": []
    },
    {
      "cell_type": "code",
      "source": [
        "x_train.columns"
      ],
      "metadata": {
        "id": "R4S8ZQY7M0xN"
      },
      "execution_count": null,
      "outputs": []
    },
    {
      "cell_type": "code",
      "source": [
        "x_train.head(1)"
      ],
      "metadata": {
        "id": "Aoa6Kt9-NLFP"
      },
      "execution_count": null,
      "outputs": []
    },
    {
      "cell_type": "code",
      "source": [
        "rf_rgr2.predict([[0.93849,\t0.605905,\t0.328798,\t-0.469295,\t-0.884652,\t0.449677,\t-0.589081,\t-0.121867,\t0.974387,\t0.38974,\t-0.013908,\t-0.147475,\t-0.105358,\t0.869568,\t0.778156,\t-0.694495,\t0.329633,\t0.201626,\t0.2643,\t-0.649321]])"
      ],
      "metadata": {
        "id": "VYrzGcQXNd-J"
      },
      "execution_count": null,
      "outputs": []
    },
    {
      "cell_type": "code",
      "source": [
        "y_train.head(1)"
      ],
      "metadata": {
        "id": "uuwqlKbYNpvZ"
      },
      "execution_count": null,
      "outputs": []
    },
    {
      "cell_type": "code",
      "source": [],
      "metadata": {
        "id": "UEnpQnjNOEcl"
      },
      "execution_count": null,
      "outputs": []
    }
  ]
}